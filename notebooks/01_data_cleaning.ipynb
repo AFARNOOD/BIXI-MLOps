{
 "cells": [
  {
   "cell_type": "code",
   "execution_count": 33,
   "id": "e52d7704-bdbe-4155-af6c-ce8d5e704191",
   "metadata": {},
   "outputs": [],
   "source": [
    "import pandas as pd\n",
    "import numpy as np\n",
    "from datetime import datetime\n",
    "import matplotlib.pyplot as plt\n",
    "import seaborn as sns"
   ]
  },
  {
   "cell_type": "code",
   "execution_count": 34,
   "id": "7e77dafc-aed7-4bf0-afbb-91bca8f507ba",
   "metadata": {},
   "outputs": [],
   "source": [
    "pd.set_option('display.max_columns', None)"
   ]
  },
  {
   "cell_type": "code",
   "execution_count": 35,
   "id": "bfe3aeeb-7e9d-45f8-8ff8-7706bbaac236",
   "metadata": {},
   "outputs": [
    {
     "name": "stdout",
     "output_type": "stream",
     "text": [
      "Requirement already satisfied: pandas in c:\\users\\a_farnoo\\appdata\\local\\programs\\python\\python312\\lib\\site-packages (2.3.0)\n",
      "Requirement already satisfied: openpyxl in c:\\users\\a_farnoo\\appdata\\local\\programs\\python\\python312\\lib\\site-packages (3.1.5)\n",
      "Requirement already satisfied: matplotlib in c:\\users\\a_farnoo\\appdata\\local\\programs\\python\\python312\\lib\\site-packages (3.9.2)\n",
      "Requirement already satisfied: seaborn in c:\\users\\a_farnoo\\appdata\\local\\programs\\python\\python312\\lib\\site-packages (0.13.2)\n",
      "Requirement already satisfied: numpy>=1.26.0 in c:\\users\\a_farnoo\\appdata\\local\\programs\\python\\python312\\lib\\site-packages (from pandas) (1.26.4)\n",
      "Requirement already satisfied: python-dateutil>=2.8.2 in c:\\users\\a_farnoo\\appdata\\local\\programs\\python\\python312\\lib\\site-packages (from pandas) (2.9.0.post0)\n",
      "Requirement already satisfied: pytz>=2020.1 in c:\\users\\a_farnoo\\appdata\\local\\programs\\python\\python312\\lib\\site-packages (from pandas) (2025.2)\n",
      "Requirement already satisfied: tzdata>=2022.7 in c:\\users\\a_farnoo\\appdata\\local\\programs\\python\\python312\\lib\\site-packages (from pandas) (2025.2)\n",
      "Requirement already satisfied: et-xmlfile in c:\\users\\a_farnoo\\appdata\\local\\programs\\python\\python312\\lib\\site-packages (from openpyxl) (2.0.0)\n",
      "Requirement already satisfied: contourpy>=1.0.1 in c:\\users\\a_farnoo\\appdata\\local\\programs\\python\\python312\\lib\\site-packages (from matplotlib) (1.3.0)\n",
      "Requirement already satisfied: cycler>=0.10 in c:\\users\\a_farnoo\\appdata\\local\\programs\\python\\python312\\lib\\site-packages (from matplotlib) (0.12.1)\n",
      "Requirement already satisfied: fonttools>=4.22.0 in c:\\users\\a_farnoo\\appdata\\local\\programs\\python\\python312\\lib\\site-packages (from matplotlib) (4.54.1)\n",
      "Requirement already satisfied: kiwisolver>=1.3.1 in c:\\users\\a_farnoo\\appdata\\local\\programs\\python\\python312\\lib\\site-packages (from matplotlib) (1.4.7)\n",
      "Requirement already satisfied: packaging>=20.0 in c:\\users\\a_farnoo\\appdata\\local\\programs\\python\\python312\\lib\\site-packages (from matplotlib) (25.0)\n",
      "Requirement already satisfied: pillow>=8 in c:\\users\\a_farnoo\\appdata\\local\\programs\\python\\python312\\lib\\site-packages (from matplotlib) (10.4.0)\n",
      "Requirement already satisfied: pyparsing>=2.3.1 in c:\\users\\a_farnoo\\appdata\\local\\programs\\python\\python312\\lib\\site-packages (from matplotlib) (3.1.4)\n",
      "Requirement already satisfied: six>=1.5 in c:\\users\\a_farnoo\\appdata\\local\\programs\\python\\python312\\lib\\site-packages (from python-dateutil>=2.8.2->pandas) (1.17.0)\n"
     ]
    }
   ],
   "source": [
    "!pip install pandas openpyxl matplotlib seaborn"
   ]
  },
  {
   "cell_type": "code",
   "execution_count": 29,
   "id": "9e5151c8-64fe-4b00-bca7-06b1579b0bf0",
   "metadata": {},
   "outputs": [],
   "source": [
    "file_path = \"../data/BIXI_Data_2023.xlsx\"\n",
    "df = pd.read_excel(file_path, sheet_name=0)"
   ]
  },
  {
   "cell_type": "code",
   "execution_count": 36,
   "id": "75942fee-7bae-4790-9d19-3bc7c342c64c",
   "metadata": {},
   "outputs": [
    {
     "data": {
      "text/html": [
       "<div>\n",
       "<style scoped>\n",
       "    .dataframe tbody tr th:only-of-type {\n",
       "        vertical-align: middle;\n",
       "    }\n",
       "\n",
       "    .dataframe tbody tr th {\n",
       "        vertical-align: top;\n",
       "    }\n",
       "\n",
       "    .dataframe thead th {\n",
       "        text-align: right;\n",
       "    }\n",
       "</style>\n",
       "<table border=\"1\" class=\"dataframe\">\n",
       "  <thead>\n",
       "    <tr style=\"text-align: right;\">\n",
       "      <th></th>\n",
       "      <th>STARTSTATIONNAME</th>\n",
       "      <th>STARTSTATIONARRONDISSEMENT</th>\n",
       "      <th>STARTSTATIONLATITUDE</th>\n",
       "      <th>STARTSTATIONLONGITUDE</th>\n",
       "      <th>ENDSTATIONNAME</th>\n",
       "      <th>ENDSTATIONARRONDISSEMENT</th>\n",
       "      <th>ENDSTATIONLATITUDE</th>\n",
       "      <th>ENDSTATIONLONGITUDE</th>\n",
       "      <th>STARTTIMEMS</th>\n",
       "      <th>ENDTIMEMS</th>\n",
       "    </tr>\n",
       "  </thead>\n",
       "  <tbody>\n",
       "    <tr>\n",
       "      <th>0</th>\n",
       "      <td>MÃ©tro Mont-Royal (UtilitÃ©s publiques / Rivard)</td>\n",
       "      <td>Le Plateau-Mont-Royal</td>\n",
       "      <td>45.524236</td>\n",
       "      <td>-73.581552</td>\n",
       "      <td>Chabot / Mont-Royal</td>\n",
       "      <td>Le Plateau-Mont-Royal</td>\n",
       "      <td>45.534134</td>\n",
       "      <td>-73.573524</td>\n",
       "      <td>1698266696468</td>\n",
       "      <td>1.698267e+12</td>\n",
       "    </tr>\n",
       "    <tr>\n",
       "      <th>1</th>\n",
       "      <td>Rielle / Wellington</td>\n",
       "      <td>Verdun</td>\n",
       "      <td>45.460156</td>\n",
       "      <td>-73.567001</td>\n",
       "      <td>St-Jacques / McGill</td>\n",
       "      <td>Ville-Marie</td>\n",
       "      <td>45.501441</td>\n",
       "      <td>-73.560144</td>\n",
       "      <td>1698270535502</td>\n",
       "      <td>1.698272e+12</td>\n",
       "    </tr>\n",
       "    <tr>\n",
       "      <th>2</th>\n",
       "      <td>Ste-Catherine / Drummond</td>\n",
       "      <td>Ville-Marie</td>\n",
       "      <td>45.498588</td>\n",
       "      <td>-73.574278</td>\n",
       "      <td>Peel / Ottawa</td>\n",
       "      <td>Le Sud-Ouest</td>\n",
       "      <td>45.494200</td>\n",
       "      <td>-73.559985</td>\n",
       "      <td>1698285705974</td>\n",
       "      <td>1.698286e+12</td>\n",
       "    </tr>\n",
       "    <tr>\n",
       "      <th>3</th>\n",
       "      <td>Boyer / du Mont-Royal</td>\n",
       "      <td>Le Plateau-Mont-Royal</td>\n",
       "      <td>45.527432</td>\n",
       "      <td>-73.579917</td>\n",
       "      <td>de l'HÃ´tel-de-Ville / Rachel</td>\n",
       "      <td>Le Plateau-Mont-Royal</td>\n",
       "      <td>45.519897</td>\n",
       "      <td>-73.580106</td>\n",
       "      <td>1698269489932</td>\n",
       "      <td>1.698270e+12</td>\n",
       "    </tr>\n",
       "    <tr>\n",
       "      <th>4</th>\n",
       "      <td>Clark / Ontario</td>\n",
       "      <td>Ville-Marie</td>\n",
       "      <td>45.510625</td>\n",
       "      <td>-73.566903</td>\n",
       "      <td>Wolfe / Robin</td>\n",
       "      <td>Ville-Marie</td>\n",
       "      <td>45.519581</td>\n",
       "      <td>-73.560116</td>\n",
       "      <td>1698270006571</td>\n",
       "      <td>1.698270e+12</td>\n",
       "    </tr>\n",
       "  </tbody>\n",
       "</table>\n",
       "</div>"
      ],
      "text/plain": [
       "                                   STARTSTATIONNAME  \\\n",
       "0  MÃ©tro Mont-Royal (UtilitÃ©s publiques / Rivard)   \n",
       "1                               Rielle / Wellington   \n",
       "2                          Ste-Catherine / Drummond   \n",
       "3                             Boyer / du Mont-Royal   \n",
       "4                                   Clark / Ontario   \n",
       "\n",
       "  STARTSTATIONARRONDISSEMENT  STARTSTATIONLATITUDE  STARTSTATIONLONGITUDE  \\\n",
       "0      Le Plateau-Mont-Royal             45.524236             -73.581552   \n",
       "1                     Verdun             45.460156             -73.567001   \n",
       "2                Ville-Marie             45.498588             -73.574278   \n",
       "3      Le Plateau-Mont-Royal             45.527432             -73.579917   \n",
       "4                Ville-Marie             45.510625             -73.566903   \n",
       "\n",
       "                  ENDSTATIONNAME ENDSTATIONARRONDISSEMENT  ENDSTATIONLATITUDE  \\\n",
       "0            Chabot / Mont-Royal    Le Plateau-Mont-Royal           45.534134   \n",
       "1            St-Jacques / McGill              Ville-Marie           45.501441   \n",
       "2                  Peel / Ottawa             Le Sud-Ouest           45.494200   \n",
       "3  de l'HÃ´tel-de-Ville / Rachel    Le Plateau-Mont-Royal           45.519897   \n",
       "4                  Wolfe / Robin              Ville-Marie           45.519581   \n",
       "\n",
       "   ENDSTATIONLONGITUDE    STARTTIMEMS     ENDTIMEMS  \n",
       "0           -73.573524  1698266696468  1.698267e+12  \n",
       "1           -73.560144  1698270535502  1.698272e+12  \n",
       "2           -73.559985  1698285705974  1.698286e+12  \n",
       "3           -73.580106  1698269489932  1.698270e+12  \n",
       "4           -73.560116  1698270006571  1.698270e+12  "
      ]
     },
     "execution_count": 36,
     "metadata": {},
     "output_type": "execute_result"
    }
   ],
   "source": [
    "# Preview the dataset\n",
    "df.head()"
   ]
  },
  {
   "cell_type": "code",
   "execution_count": 37,
   "id": "6ba64f69-84e9-4a9b-9ae8-ff43ad04d3cb",
   "metadata": {},
   "outputs": [
    {
     "name": "stdout",
     "output_type": "stream",
     "text": [
      "<class 'pandas.core.frame.DataFrame'>\n",
      "RangeIndex: 1048575 entries, 0 to 1048574\n",
      "Data columns (total 10 columns):\n",
      " #   Column                      Non-Null Count    Dtype  \n",
      "---  ------                      --------------    -----  \n",
      " 0   STARTSTATIONNAME            1048100 non-null  object \n",
      " 1   STARTSTATIONARRONDISSEMENT  1048100 non-null  object \n",
      " 2   STARTSTATIONLATITUDE        1048100 non-null  float64\n",
      " 3   STARTSTATIONLONGITUDE       1048100 non-null  float64\n",
      " 4   ENDSTATIONNAME              1042340 non-null  object \n",
      " 5   ENDSTATIONARRONDISSEMENT    1042340 non-null  object \n",
      " 6   ENDSTATIONLATITUDE          1042340 non-null  float64\n",
      " 7   ENDSTATIONLONGITUDE         1042340 non-null  float64\n",
      " 8   STARTTIMEMS                 1048575 non-null  int64  \n",
      " 9   ENDTIMEMS                   1043029 non-null  float64\n",
      "dtypes: float64(5), int64(1), object(4)\n",
      "memory usage: 80.0+ MB\n"
     ]
    }
   ],
   "source": [
    "# Overview of data types and missing values\n",
    "df.info()"
   ]
  },
  {
   "cell_type": "code",
   "execution_count": 38,
   "id": "0f8cfe3c-eac8-42d0-9194-d7cdfe46063f",
   "metadata": {},
   "outputs": [
    {
     "data": {
      "text/plain": [
       "STARTSTATIONNAME               475\n",
       "STARTSTATIONARRONDISSEMENT     475\n",
       "STARTSTATIONLATITUDE           475\n",
       "STARTSTATIONLONGITUDE          475\n",
       "ENDSTATIONNAME                6235\n",
       "ENDSTATIONARRONDISSEMENT      6235\n",
       "ENDSTATIONLATITUDE            6235\n",
       "ENDSTATIONLONGITUDE           6235\n",
       "STARTTIMEMS                      0\n",
       "ENDTIMEMS                     5546\n",
       "dtype: int64"
      ]
     },
     "execution_count": 38,
     "metadata": {},
     "output_type": "execute_result"
    }
   ],
   "source": [
    "# Check for NaNs\n",
    "df.isnull().sum()"
   ]
  },
  {
   "cell_type": "code",
   "execution_count": 39,
   "id": "843e4d15-ac29-438b-aa8f-bf6996aaf352",
   "metadata": {},
   "outputs": [
    {
     "data": {
      "text/html": [
       "<div>\n",
       "<style scoped>\n",
       "    .dataframe tbody tr th:only-of-type {\n",
       "        vertical-align: middle;\n",
       "    }\n",
       "\n",
       "    .dataframe tbody tr th {\n",
       "        vertical-align: top;\n",
       "    }\n",
       "\n",
       "    .dataframe thead th {\n",
       "        text-align: right;\n",
       "    }\n",
       "</style>\n",
       "<table border=\"1\" class=\"dataframe\">\n",
       "  <thead>\n",
       "    <tr style=\"text-align: right;\">\n",
       "      <th></th>\n",
       "      <th>STARTSTATIONLATITUDE</th>\n",
       "      <th>STARTSTATIONLONGITUDE</th>\n",
       "      <th>ENDSTATIONLATITUDE</th>\n",
       "      <th>ENDSTATIONLONGITUDE</th>\n",
       "      <th>STARTTIMEMS</th>\n",
       "      <th>ENDTIMEMS</th>\n",
       "    </tr>\n",
       "  </thead>\n",
       "  <tbody>\n",
       "    <tr>\n",
       "      <th>count</th>\n",
       "      <td>1.048100e+06</td>\n",
       "      <td>1.048100e+06</td>\n",
       "      <td>1.042340e+06</td>\n",
       "      <td>1.042340e+06</td>\n",
       "      <td>1.048575e+06</td>\n",
       "      <td>1.043029e+06</td>\n",
       "    </tr>\n",
       "    <tr>\n",
       "      <th>mean</th>\n",
       "      <td>4.534408e+01</td>\n",
       "      <td>-7.331028e+01</td>\n",
       "      <td>4.531747e+01</td>\n",
       "      <td>-7.326842e+01</td>\n",
       "      <td>1.691674e+12</td>\n",
       "      <td>1.691676e+12</td>\n",
       "    </tr>\n",
       "    <tr>\n",
       "      <th>std</th>\n",
       "      <td>2.842207e+00</td>\n",
       "      <td>4.434573e+00</td>\n",
       "      <td>3.045925e+00</td>\n",
       "      <td>4.752413e+00</td>\n",
       "      <td>5.095758e+09</td>\n",
       "      <td>5.095948e+09</td>\n",
       "    </tr>\n",
       "    <tr>\n",
       "      <th>min</th>\n",
       "      <td>-1.000000e+00</td>\n",
       "      <td>-7.375823e+01</td>\n",
       "      <td>-1.000000e+00</td>\n",
       "      <td>-7.375823e+01</td>\n",
       "      <td>1.681387e+12</td>\n",
       "      <td>1.681387e+12</td>\n",
       "    </tr>\n",
       "    <tr>\n",
       "      <th>25%</th>\n",
       "      <td>4.550398e+01</td>\n",
       "      <td>-7.359347e+01</td>\n",
       "      <td>4.550281e+01</td>\n",
       "      <td>-7.359214e+01</td>\n",
       "      <td>1.687558e+12</td>\n",
       "      <td>1.687559e+12</td>\n",
       "    </tr>\n",
       "    <tr>\n",
       "      <th>50%</th>\n",
       "      <td>4.552069e+01</td>\n",
       "      <td>-7.357718e+01</td>\n",
       "      <td>4.552012e+01</td>\n",
       "      <td>-7.357602e+01</td>\n",
       "      <td>1.691673e+12</td>\n",
       "      <td>1.691674e+12</td>\n",
       "    </tr>\n",
       "    <tr>\n",
       "      <th>75%</th>\n",
       "      <td>4.553342e+01</td>\n",
       "      <td>-7.356666e+01</td>\n",
       "      <td>4.553341e+01</td>\n",
       "      <td>-7.356395e+01</td>\n",
       "      <td>1.695430e+12</td>\n",
       "      <td>1.695432e+12</td>\n",
       "    </tr>\n",
       "    <tr>\n",
       "      <th>max</th>\n",
       "      <td>4.570235e+01</td>\n",
       "      <td>-1.000000e+00</td>\n",
       "      <td>4.570235e+01</td>\n",
       "      <td>-1.000000e+00</td>\n",
       "      <td>1.703925e+12</td>\n",
       "      <td>1.704026e+12</td>\n",
       "    </tr>\n",
       "  </tbody>\n",
       "</table>\n",
       "</div>"
      ],
      "text/plain": [
       "       STARTSTATIONLATITUDE  STARTSTATIONLONGITUDE  ENDSTATIONLATITUDE  \\\n",
       "count          1.048100e+06           1.048100e+06        1.042340e+06   \n",
       "mean           4.534408e+01          -7.331028e+01        4.531747e+01   \n",
       "std            2.842207e+00           4.434573e+00        3.045925e+00   \n",
       "min           -1.000000e+00          -7.375823e+01       -1.000000e+00   \n",
       "25%            4.550398e+01          -7.359347e+01        4.550281e+01   \n",
       "50%            4.552069e+01          -7.357718e+01        4.552012e+01   \n",
       "75%            4.553342e+01          -7.356666e+01        4.553341e+01   \n",
       "max            4.570235e+01          -1.000000e+00        4.570235e+01   \n",
       "\n",
       "       ENDSTATIONLONGITUDE   STARTTIMEMS     ENDTIMEMS  \n",
       "count         1.042340e+06  1.048575e+06  1.043029e+06  \n",
       "mean         -7.326842e+01  1.691674e+12  1.691676e+12  \n",
       "std           4.752413e+00  5.095758e+09  5.095948e+09  \n",
       "min          -7.375823e+01  1.681387e+12  1.681387e+12  \n",
       "25%          -7.359214e+01  1.687558e+12  1.687559e+12  \n",
       "50%          -7.357602e+01  1.691673e+12  1.691674e+12  \n",
       "75%          -7.356395e+01  1.695430e+12  1.695432e+12  \n",
       "max          -1.000000e+00  1.703925e+12  1.704026e+12  "
      ]
     },
     "execution_count": 39,
     "metadata": {},
     "output_type": "execute_result"
    }
   ],
   "source": [
    "# Basic stats\n",
    "df.describe()"
   ]
  },
  {
   "cell_type": "code",
   "execution_count": 43,
   "id": "552909cc-04f0-4e25-a5f5-292cda3922fb",
   "metadata": {},
   "outputs": [],
   "source": [
    "df['STARTSTATIONNAME'] = df['STARTSTATIONNAME'].str.encode('latin1', errors='ignore').str.decode('utf-8', errors='ignore')"
   ]
  },
  {
   "cell_type": "code",
   "execution_count": 44,
   "id": "9cb4e9b9-02ae-4e53-9bab-4183a3cd01e6",
   "metadata": {},
   "outputs": [],
   "source": [
    "df['ENDSTATIONNAME'] = df['ENDSTATIONNAME'].str.encode('latin1', errors='ignore').str.decode('utf-8', errors='ignore')"
   ]
  },
  {
   "cell_type": "code",
   "execution_count": 45,
   "id": "e23083dc-0337-41c0-96d1-4da537bbd27c",
   "metadata": {},
   "outputs": [],
   "source": [
    "# Convert milliseconds to datetime\n",
    "df['STARTTIME'] = pd.to_datetime(df['STARTTIMEMS'], unit='ms')\n",
    "df['ENDTIME'] = pd.to_datetime(df['ENDTIMEMS'], unit='ms')\n",
    "\n",
    "# Drop the raw timestamp columns if not needed\n",
    "df.drop(columns=['STARTTIMEMS', 'ENDTIMEMS'], inplace=True)"
   ]
  },
  {
   "cell_type": "code",
   "execution_count": 46,
   "id": "1400ab80-054b-4591-9c5a-0a8af0e4b86e",
   "metadata": {},
   "outputs": [],
   "source": [
    "df['TRIP_DURATION_MIN'] = (df['ENDTIME'] - df['STARTTIME']).dt.total_seconds() / 60"
   ]
  },
  {
   "cell_type": "code",
   "execution_count": 48,
   "id": "dfa9c44c-03cc-4662-9905-46b3afbc1011",
   "metadata": {},
   "outputs": [],
   "source": [
    "df = df[df['TRIP_DURATION_MIN'] > 1]\n",
    "df = df[df['TRIP_DURATION_MIN'] < 120]\n",
    "\n",
    "df.dropna(subset=[\n",
    "    'STARTSTATIONLATITUDE', 'STARTSTATIONLONGITUDE',\n",
    "    'ENDSTATIONLATITUDE', 'ENDSTATIONLONGITUDE'\n",
    "], inplace=True)\n",
    "\n",
    "df.drop_duplicates(inplace=True)"
   ]
  },
  {
   "cell_type": "code",
   "execution_count": 49,
   "id": "503ae355-a132-4f03-82a8-88c56e865c67",
   "metadata": {},
   "outputs": [],
   "source": [
    "df.rename(columns={\n",
    "    'STARTSTATIONNAME': 'start_station_name',\n",
    "    'STARTSTATIONARRONDISSEMENT': 'start_arrondissement',\n",
    "    'STARTSTATIONLATITUDE': 'start_lat',\n",
    "    'STARTSTATIONLONGITUDE': 'start_lon',\n",
    "    'ENDSTATIONNAME': 'end_station_name',\n",
    "    'ENDSTATIONARRONDISSEMENT': 'end_arrondissement',\n",
    "    'ENDSTATIONLATITUDE': 'end_lat',\n",
    "    'ENDSTATIONLONGITUDE': 'end_lon',\n",
    "    'STARTTIME': 'start_time',\n",
    "    'ENDTIME': 'end_time',\n",
    "    'TRIP_DURATION_MIN': 'trip_duration_min'\n",
    "}, inplace=True)"
   ]
  },
  {
   "cell_type": "code",
   "execution_count": 50,
   "id": "f4e20e1d-45d3-42fd-8316-de9c570c3d3a",
   "metadata": {},
   "outputs": [],
   "source": [
    "# Save as CSV or Parquet\n",
    "df.to_csv('../data/clean_bixi_2023.csv', index=False)"
   ]
  },
  {
   "cell_type": "markdown",
   "id": "c9b3eb5f-6aaf-4038-b5c9-4264a530c125",
   "metadata": {},
   "source": [
    "### Visualization"
   ]
  },
  {
   "cell_type": "code",
   "execution_count": 51,
   "id": "55b24c26-feb3-4193-a4d4-47bc59f41512",
   "metadata": {},
   "outputs": [
    {
     "data": {
      "image/png": "[encoded data removed]",
      "text/plain": [
       "<Figure size 640x480 with 1 Axes>"
      ]
     },
     "metadata": {},
     "output_type": "display_data"
    }
   ],
   "source": [
    "# Distribution of trip durations\n",
    "sns.histplot(df['trip_duration_min'], bins=50)\n",
    "plt.title('Distribution of Trip Durations (min)')\n",
    "plt.xlabel('Duration (minutes)')\n",
    "plt.ylabel('Frequency')\n",
    "plt.show()"
   ]
  },
  {
   "cell_type": "code",
   "execution_count": null,
   "id": "9a81c8f6-3437-4905-8ae8-77d7f9d6e2c5",
   "metadata": {},
   "outputs": [],
   "source": []
  }
 ],
 "metadata": {
  "kernelspec": {
   "display_name": "Python 3 (ipykernel)",
   "language": "python",
   "name": "python3"
  },
  "language_info": {
   "codemirror_mode": {
    "name": "ipython",
    "version": 3
   },
   "file_extension": ".py",
   "mimetype": "text/x-python",
   "name": "python",
   "nbconvert_exporter": "python",
   "pygments_lexer": "ipython3",
   "version": "3.12.6"
  }
 },
 "nbformat": 4,
 "nbformat_minor": 5
}
