{
 "cells": [
  {
   "cell_type": "code",
   "execution_count": 1,
   "id": "3db15e7a-30e5-49af-8a06-ad4041212b1d",
   "metadata": {},
   "outputs": [],
   "source": [
    "import pandas as pd\n",
    "import numpy as np"
   ]
  },
  {
   "cell_type": "code",
   "execution_count": 2,
   "id": "f1f178d1-0d6c-446d-aad8-748111aa9f2c",
   "metadata": {},
   "outputs": [],
   "source": [
    "# Load cleaned BIXI data\n",
    "df = pd.read_csv('../data/clean_bixi_2023.csv', parse_dates=['start_time', 'end_time'])"
   ]
  },
  {
   "cell_type": "markdown",
   "id": "abeb2057-6855-4d34-91f9-fd5a5ae27072",
   "metadata": {},
   "source": [
    "### Temporal Feature Engineering"
   ]
  },
  {
   "cell_type": "code",
   "execution_count": 4,
   "id": "5bfee949-4240-4003-a91b-701cf825500c",
   "metadata": {},
   "outputs": [],
   "source": [
    "df['hour'] = df['start_time'].dt.hour\n",
    "df['day_of_week'] = df['start_time'].dt.dayofweek  # 0 = Monday\n",
    "df['day_name'] = df['start_time'].dt.day_name()\n",
    "df['month'] = df['start_time'].dt.month\n",
    "df['is_weekend'] = df['day_of_week'].apply(lambda x: 1 if x >= 5 else 0)"
   ]
  },
  {
   "cell_type": "markdown",
   "id": "dedcc13f-7a9b-4955-9018-9888250e2aaf",
   "metadata": {},
   "source": [
    "### Spatial Feature Engineering"
   ]
  },
  {
   "cell_type": "code",
   "execution_count": 5,
   "id": "158f5cca-61ea-46cb-bec1-dfb0582d5199",
   "metadata": {},
   "outputs": [],
   "source": [
    "from math import radians, sin, cos, sqrt, atan2\n",
    "\n",
    "def haversine(lat1, lon1, lat2, lon2):\n",
    "    R = 6371  # Earth radius in kilometers\n",
    "    lat1, lon1, lat2, lon2 = map(radians, [lat1, lon1, lat2, lon2])\n",
    "    dlat = lat2 - lat1\n",
    "    dlon = lon2 - lon1\n",
    "    a = sin(dlat/2)**2 + cos(lat1) * cos(lat2) * sin(dlon/2)**2\n",
    "    c = 2 * atan2(sqrt(a), sqrt(1 - a))\n",
    "    return R * c\n",
    "\n",
    "df['trip_distance_km'] = df.apply(lambda row: haversine(\n",
    "    row['start_lat'], row['start_lon'],\n",
    "    row['end_lat'], row['end_lon']), axis=1)"
   ]
  },
  {
   "cell_type": "code",
   "execution_count": 6,
   "id": "5d4985dd-6c47-4e27-bb94-780a82163e74",
   "metadata": {},
   "outputs": [],
   "source": [
    "# Number of trips per start station\n",
    "start_counts = df['start_station_name'].value_counts().to_dict()\n",
    "df['start_station_popularity'] = df['start_station_name'].map(start_counts)"
   ]
  },
  {
   "cell_type": "code",
   "execution_count": 7,
   "id": "2cce5848-f32c-4f2d-9350-4acd2b677bd4",
   "metadata": {},
   "outputs": [],
   "source": [
    "# Average trip duration from each start station\n",
    "avg_duration = df.groupby('start_station_name')['trip_duration_min'].mean().to_dict()\n",
    "df['avg_trip_duration_from_station'] = df['start_station_name'].map(avg_duration)"
   ]
  },
  {
   "cell_type": "code",
   "execution_count": 8,
   "id": "742cd3fb-dd75-496b-8cb4-22b5f92af9fd",
   "metadata": {},
   "outputs": [],
   "source": [
    "df.drop(columns=[\n",
    "    'start_station_name',\n",
    "    'end_station_name',\n",
    "    'start_time',\n",
    "    'end_time',\n",
    "    'day_name'\n",
    "], inplace=True)"
   ]
  },
  {
   "cell_type": "markdown",
   "id": "6b84b7ed-4774-4c52-856b-a8f9458bbec3",
   "metadata": {},
   "source": [
    "### Train-Test Split"
   ]
  },
  {
   "cell_type": "code",
   "execution_count": 9,
   "id": "9f225f15-38a4-4b9d-bd86-f24b2c100792",
   "metadata": {},
   "outputs": [],
   "source": [
    "from sklearn.model_selection import train_test_split"
   ]
  },
  {
   "cell_type": "code",
   "execution_count": 10,
   "id": "24d0f1e0-f095-4366-8e73-f838cbd7e7e3",
   "metadata": {},
   "outputs": [],
   "source": [
    "target = 'trip_duration_min'\n",
    "features = df.drop(columns=[target]).columns"
   ]
  },
  {
   "cell_type": "code",
   "execution_count": 11,
   "id": "f0388c8c-4f55-462e-be08-6cc81f190727",
   "metadata": {},
   "outputs": [],
   "source": [
    "X_train, X_test, y_train, y_test = train_test_split(\n",
    "    df[features], df[target], test_size=0.2, random_state=42)"
   ]
  },
  {
   "cell_type": "code",
   "execution_count": 12,
   "id": "5d9c259d-022d-4f77-b059-06168d7fcd08",
   "metadata": {},
   "outputs": [],
   "source": [
    "# Save as CSV for next step\n",
    "X_train.to_csv('../data/X_train.csv', index=False)\n",
    "X_test.to_csv('../data/X_test.csv', index=False)\n",
    "y_train.to_csv('../data/y_train.csv', index=False)\n",
    "y_test.to_csv('../data/y_test.csv', index=False)"
   ]
  },
  {
   "cell_type": "code",
   "execution_count": 13,
   "id": "550c0db9-ce5e-4ab3-816d-68f7c93be441",
   "metadata": {},
   "outputs": [],
   "source": [
    "feature_metadata = pd.DataFrame({\n",
    "    'feature': features,\n",
    "    'dtype': X_train.dtypes.values\n",
    "})\n",
    "feature_metadata.to_csv('../data/feature_metadata.csv', index=False)"
   ]
  },
  {
   "cell_type": "code",
   "execution_count": null,
   "id": "22f7eb57-fab7-4f4e-92f9-153590649634",
   "metadata": {},
   "outputs": [],
   "source": []
  }
 ],
 "metadata": {
  "kernelspec": {
   "display_name": "Python 3 (ipykernel)",
   "language": "python",
   "name": "python3"
  },
  "language_info": {
   "codemirror_mode": {
    "name": "ipython",
    "version": 3
   },
   "file_extension": ".py",
   "mimetype": "text/x-python",
   "name": "python",
   "nbconvert_exporter": "python",
   "pygments_lexer": "ipython3",
   "version": "3.12.6"
  }
 },
 "nbformat": 4,
 "nbformat_minor": 5
}
